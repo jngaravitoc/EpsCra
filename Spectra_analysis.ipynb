{
 "metadata": {
  "name": "Spectra_analysis"
 },
 "nbformat": 3,
 "nbformat_minor": 0,
 "worksheets": [
  {
   "cells": [
    {
     "cell_type": "code",
     "collapsed": false,
     "input": [
      "#Data analysis\n",
      "% pylab \n",
      "import numpy as np \n",
      "import matplotlib.pylab as plt\n"
     ],
     "language": "python",
     "metadata": {},
     "outputs": [
      {
       "output_type": "stream",
       "stream": "stdout",
       "text": [
        "\n",
        "Welcome to pylab, a matplotlib-based Python environment [backend: TkAgg].\n",
        "For more information, type 'help(pylab)'.\n"
       ]
      }
     ],
     "prompt_number": 1
    },
    {
     "cell_type": "code",
     "collapsed": false,
     "input": [
      "Sept10_Epscra_B = np.loadtxt('data/sept10/EpsCRAB/epsiloncra_full.dat')\n",
      "Sept13_Epscra_A = np.loadtxt('data/sept13/EpsCraA/epsiloncra_full.dat')\n",
      "Sept16_Epscra_A = np.loadtxt('data/sept16/EpsCRAA/epsiloncra_full.dat')\n",
      "Sept16_muSco_D = np.loadtxt('data/sept16/mu1scoD/mu1sco_full.dat')\n",
      "\n"
     ],
     "language": "python",
     "metadata": {},
     "outputs": [],
     "prompt_number": 4
    },
    {
     "cell_type": "code",
     "collapsed": false,
     "input": [
      "l_1 = Sept10_Epscra_B[:, 0]\n",
      "I_1 = Sept10_Epscra_B[:, 1]\n",
      "\n",
      "l_2 = Sept13_Epscra_A[:, 0]\n",
      "I_2 = Sept13_Epscra_A[:, 1]\n",
      "\n",
      "l_3 = Sept16_Epscra_A[:, 0]\n",
      "I_3 = Sept16_Epscra_A[:, 1]\n",
      "\n",
      "l_4 = Sept16_muSco_D[:, 0]\n",
      "I_4 = Sept16_muSco_D[:, 1]"
     ],
     "language": "python",
     "metadata": {},
     "outputs": [],
     "prompt_number": 5
    },
    {
     "cell_type": "code",
     "collapsed": false,
     "input": [
      "figure(num=None, figsize=(9.5,9))\n",
      "plt.plot(l_1, I_1)\n",
      "#Doblete de Sodio\n",
      "plt.axvline(x=5889.950,linewidth=1,color='k')\n",
      "plt.axvline(x=5895.924,linewidth=1,color='r')\n",
      "#H\\alpha\n",
      "plt.axvline(x=6562.8,linewidth=1,color='k')\n",
      "plt.ylim([0, 45])\n",
      "plt.xlabel('$\\mathrm{\\lambda(\\AA)}$', fontsize = 29)\n",
      "plt.ylabel('$\\mathrm{Intensidad}$', fontsize = 29)\n",
      "#plt.show()"
     ],
     "language": "python",
     "metadata": {},
     "outputs": [
      {
       "output_type": "pyout",
       "prompt_number": 6,
       "text": [
        "<matplotlib.text.Text at 0x395fd10>"
       ]
      }
     ],
     "prompt_number": 6
    },
    {
     "cell_type": "code",
     "collapsed": false,
     "input": [
      "figure(num=None, figsize=(9.5,9))\n",
      "plt.plot(l_2, I_2)\n",
      "#Doblete de Sodio\n",
      "plt.axvline(x=5889.950,linewidth=1,color='k')\n",
      "plt.axvline(x=5895.924,linewidth=1,color='r')\n",
      "#H\\alpha\n",
      "plt.axvline(x=6562.8,linewidth=1,color='k')\n",
      "plt.ylim([0, 75])\n",
      "plt.xlabel('$\\mathrm{\\lambda(\\AA)}$', fontsize = 29)\n",
      "plt.ylabel('$\\mathrm{Intensidad}$', fontsize = 29)\n",
      "#plt.show()"
     ],
     "language": "python",
     "metadata": {},
     "outputs": [
      {
       "output_type": "pyout",
       "prompt_number": 9,
       "text": [
        "<matplotlib.text.Text at 0x40aa790>"
       ]
      }
     ],
     "prompt_number": 9
    },
    {
     "cell_type": "code",
     "collapsed": false,
     "input": [
      "figure(num=None, figsize=(9.5,9))\n",
      "plt.plot(l_3, I_3)\n",
      "#Doblete de Sodio\n",
      "plt.axvline(x=5889.950,linewidth=1,color='k')\n",
      "plt.axvline(x=5895.924,linewidth=1,color='r')\n",
      "#H\\alpha\n",
      "plt.axvline(x=6562.8,linewidth=1,color='k')\n",
      "plt.ylim([0, 75])\n",
      "plt.xlabel('$\\mathrm{\\lambda(\\AA)}$', fontsize = 29)\n",
      "plt.ylabel('$\\mathrm{Intensidad}$', fontsize = 29)\n",
      "#plt.show()\n"
     ],
     "language": "python",
     "metadata": {},
     "outputs": [
      {
       "output_type": "pyout",
       "prompt_number": 10,
       "text": [
        "<matplotlib.text.Text at 0x36a1fd0>"
       ]
      }
     ],
     "prompt_number": 10
    },
    {
     "cell_type": "code",
     "collapsed": false,
     "input": [
      "figure(num=None, figsize=(9.5,9))\n",
      "plt.plot(l_4, I_4)\n",
      "#Doblete de Sodio\n",
      "plt.axvline(x=5889.950,linewidth=1,color='k')\n",
      "plt.axvline(x=5895.924,linewidth=1,color='r')\n",
      "#H\\alpha\n",
      "plt.axvline(x=6562.8,linewidth=1,color='k')\n",
      "plt.ylim([0, 75])\n",
      "plt.xlabel('$\\mathrm{\\lambda(\\AA)}$', fontsize = 29)\n",
      "plt.ylabel('$\\mathrm{Intensidad}$', fontsize = 29)\n",
      "#plt.show()\n"
     ],
     "language": "python",
     "metadata": {},
     "outputs": [
      {
       "output_type": "pyout",
       "prompt_number": 11,
       "text": [
        "<matplotlib.text.Text at 0x43a5850>"
       ]
      }
     ],
     "prompt_number": 11
    },
    {
     "cell_type": "code",
     "collapsed": false,
     "input": [],
     "language": "python",
     "metadata": {},
     "outputs": []
    }
   ],
   "metadata": {}
  }
 ]
}