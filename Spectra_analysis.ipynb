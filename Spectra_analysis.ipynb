{
 "metadata": {
  "name": "Spectra_analysis"
 },
 "nbformat": 3,
 "nbformat_minor": 0,
 "worksheets": [
  {
   "cells": [
    {
     "cell_type": "code",
     "collapsed": false,
     "input": [
      "#Data analysis\n",
      "% pylab \n",
      "import numpy as np \n",
      "import matplotlib.pylab as plt"
     ],
     "language": "python",
     "metadata": {},
     "outputs": [
      {
       "output_type": "stream",
       "stream": "stdout",
       "text": [
        "\n",
        "Welcome to pylab, a matplotlib-based Python environment [backend: TkAgg].\n",
        "For more information, type 'help(pylab)'.\n"
       ]
      },
      {
       "output_type": "stream",
       "stream": "stderr",
       "text": [
        "/usr/lib/pymodules/python2.7/matplotlib/__init__.py:1035: UserWarning:  This call to matplotlib.use() has no effect\n",
        "because the the backend has already been chosen;\n",
        "matplotlib.use() must be called *before* pylab, matplotlib.pyplot,\n",
        "or matplotlib.backends is imported for the first time.\n",
        "\n",
        "  warnings.warn(_use_error_msg)\n"
       ]
      }
     ],
     "prompt_number": 41
    },
    {
     "cell_type": "code",
     "collapsed": false,
     "input": [
      "Sept10_Epscra_B = np.loadtxt('data/sept10/EpsCRAB/epsiloncra_full.dat')\n",
      "Sept13_Epscra_A = np.loadtxt('data/sept13/EpsCraA/epsiloncra_full.dat')\n",
      "Sept16_Epscra_A = np.loadtxt('data/sept16/EpsCRAA/epsiloncra_full.dat')\n",
      "Sept16_muSco_D = np.loadtxt('data/sept16/mu1scoD/mu1sco_full.dat')\n",
      "\n"
     ],
     "language": "python",
     "metadata": {},
     "outputs": [],
     "prompt_number": 2
    },
    {
     "cell_type": "code",
     "collapsed": false,
     "input": [
      "l_1 = Sept10_Epscra_B[:, 0]\n",
      "I_1 = Sept10_Epscra_B[:, 1]\n",
      "\n",
      "l_2 = Sept13_Epscra_A[:, 0]\n",
      "I_2 = Sept13_Epscra_A[:, 1]\n",
      "\n",
      "l_3 = Sept16_Epscra_A[:, 0]\n",
      "I_3 = Sept16_Epscra_A[:, 1]\n",
      "\n",
      "l_4 = Sept16_muSco_D[:, 0]\n",
      "I_4 = Sept16_muSco_D[:, 1]"
     ],
     "language": "python",
     "metadata": {},
     "outputs": [],
     "prompt_number": 3
    },
    {
     "cell_type": "code",
     "collapsed": false,
     "input": [
      "# Eps Cra sept 10 full spectra\n",
      "figure(num=None, figsize=(9.5,9))\n",
      "plt.plot(l_1, I_1)\n",
      "#Doblete de Sodio\n",
      "plt.axvline(x=5889.950,linewidth=1,color='k')\n",
      "plt.axvline(x=5895.924,linewidth=1,color='r')\n",
      "#H\\alpha\n",
      "plt.axvline(x=6562.8,linewidth=1,color='k')\n",
      "#H\\beta\n",
      "plt.axvline(x=4861,linewidth=1,color='k')\n",
      "plt.ylim([0, 45])\n",
      "plt.xlabel('$\\mathrm{\\lambda(\\AA)}$', fontsize = 29)\n",
      "plt.ylabel('$\\mathrm{Intensidad}$ $\\mathrm{(Unidades}$ $\\mathrm{Arbitrarias)}$', fontsize = 29)\n",
      "plt.title('$\\mathrm{Espectro}$ $\\mathrm{de}$ $\\mathrm{\\epsilon}$$\\mathrm{CRA}$', fontsize = 29)\n",
      "#plt.show()"
     ],
     "language": "python",
     "metadata": {},
     "outputs": [
      {
       "output_type": "pyout",
       "prompt_number": 11,
       "text": [
        "<matplotlib.text.Text at 0x4163050>"
       ]
      }
     ],
     "prompt_number": 11
    },
    {
     "cell_type": "code",
     "collapsed": false,
     "input": [
      "# Eps cra sept 13 H\\alpha region\n",
      "figure(num=None, figsize=(9.5,9))\n",
      "plt.plot(l_1, I_1)\n",
      "#Doblete de Sodio\n",
      "plt.axvline(x=5889.950,linewidth=1,color='k')\n",
      "plt.axvline(x=5895.924,linewidth=1,color='r')\n",
      "#H\\alpha\n",
      "plt.axvline(x=6562.8,linewidth=1,color='k')\n",
      "#H\\beta in rest frame\n",
      "plt.axvline(x=4861,linewidth=1,color='k')\n",
      "# Ha observed\n",
      "plt.axvline(x=6565,linewidth=1,color='r')\n",
      "\n",
      "plt.ylim([0, 1.5])\n",
      "plt.xlim([6500, 6600])\n",
      "\n",
      "plt.xlabel('$\\mathrm{\\lambda(\\AA)}$', fontsize = 29)\n",
      "plt.ylabel('$\\mathrm{Intensidad}$ $\\mathrm{(Unidades}$ $\\mathrm{Arbitrarias)}$', fontsize = 29)\n",
      "plt.title('$\\mathrm{Espectro}$ $\\mathrm{de}$ $\\mathrm{\\epsilon}$$\\mathrm{CRA}$', fontsize = 29)\n",
      "#plt.show()"
     ],
     "language": "python",
     "metadata": {},
     "outputs": [
      {
       "output_type": "pyout",
       "prompt_number": 40,
       "text": [
        "<matplotlib.text.Text at 0x10e19790>"
       ]
      }
     ],
     "prompt_number": 40
    },
    {
     "cell_type": "code",
     "collapsed": false,
     "input": [
      "Z_alpha = (6565 - 6562.8) / 6562.8\n",
      "v_alpha = 3e8 * Z  # in m/s\n",
      "\n",
      "print Z_alpha, v_alpha"
     ],
     "language": "python",
     "metadata": {},
     "outputs": [
      {
       "output_type": "stream",
       "stream": "stdout",
       "text": [
        "0.000335222770769 100566.831231\n"
       ]
      }
     ],
     "prompt_number": 39
    },
    {
     "cell_type": "code",
     "collapsed": false,
     "input": [
      "# Eps Cra sept 13 full spectra\n",
      "figure(num=None, figsize=(9.5,9))\n",
      "plt.plot(l_2, I_2)\n",
      "#Doblete de Sodio\n",
      "plt.axvline(x=5889.950,linewidth=1,color='k')\n",
      "plt.axvline(x=5895.924,linewidth=1,color='r')\n",
      "#H\\alpha\n",
      "plt.axvline(x=6562.8,linewidth=1,color='k')\n",
      "plt.ylim([0, 75])\n",
      "plt.xlabel('$\\mathrm{\\lambda(\\AA)}$', fontsize = 29)\n",
      "plt.ylabel('$\\mathrm{Intensidad}(Unidades Arbitrarias)$', fontsize = 29)\n",
      "#plt.show()"
     ],
     "language": "python",
     "metadata": {},
     "outputs": [
      {
       "output_type": "pyout",
       "prompt_number": 9,
       "text": [
        "<matplotlib.text.Text at 0x40aa790>"
       ]
      }
     ],
     "prompt_number": 9
    },
    {
     "cell_type": "code",
     "collapsed": false,
     "input": [
      "# Eps cra sept 16 full spectra\n",
      "figure(num=None, figsize=(9.5,9))\n",
      "plt.plot(l_3, I_3)\n",
      "#Doblete de Sodio\n",
      "plt.axvline(x=5889.950,linewidth=1,color='k')\n",
      "plt.axvline(x=5895.924,linewidth=1,color='r')\n",
      "#H\\alpha\n",
      "plt.axvline(x=6562.8,linewidth=1,color='k')\n",
      "#H\\beta in rest frame\n",
      "plt.axvline(x=4861,linewidth=1,color='k')\n",
      "\n",
      "plt.ylim([0, 1.5])\n",
      "plt.xlim([6500, 6600])\n",
      "plt.xlabel('$\\mathrm{\\lambda(\\AA)}$', fontsize = 29)\n",
      "plt.ylabel('$\\mathrm{Intensidad}$', fontsize = 29)\n",
      "#plt.show()\n"
     ],
     "language": "python",
     "metadata": {},
     "outputs": [
      {
       "output_type": "pyout",
       "prompt_number": 43,
       "text": [
        "<matplotlib.text.Text at 0x112b49d0>"
       ]
      }
     ],
     "prompt_number": 43
    },
    {
     "cell_type": "code",
     "collapsed": false,
     "input": [
      "figure(num=None, figsize=(9.5,9))\n",
      "plt.plot(l_4, I_4)\n",
      "#Doblete de Sodio\n",
      "plt.axvline(x=5889.950,linewidth=1,color='k')\n",
      "plt.axvline(x=5895.924,linewidth=1,color='r')\n",
      "#H\\alpha\n",
      "plt.axvline(x=6562.8,linewidth=1,color='k')\n",
      "plt.ylim([0, 75])\n",
      "plt.xlabel('$\\mathrm{\\lambda(\\AA)}$', fontsize = 29)\n",
      "plt.ylabel('$\\mathrm{Intensidad}$', fontsize = 29)\n",
      "#plt.show()\n"
     ],
     "language": "python",
     "metadata": {},
     "outputs": [
      {
       "output_type": "pyout",
       "prompt_number": 11,
       "text": [
        "<matplotlib.text.Text at 0x43a5850>"
       ]
      }
     ],
     "prompt_number": 11
    },
    {
     "cell_type": "code",
     "collapsed": false,
     "input": [],
     "language": "python",
     "metadata": {},
     "outputs": []
    }
   ],
   "metadata": {}
  }
 ]
}