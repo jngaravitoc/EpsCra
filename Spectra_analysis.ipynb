{
 "metadata": {
  "name": "Spectra_analysis"
 },
 "nbformat": 3,
 "nbformat_minor": 0,
 "worksheets": [
  {
   "cells": [
    {
     "cell_type": "heading",
     "level": 1,
     "metadata": {},
     "source": [
      "This notebook calculates the radial velocity from the binary star Epsilon CRA.  "
     ]
    },
    {
     "cell_type": "markdown",
     "metadata": {},
     "source": [
      "The data was taken in the observatory of the Universidad de los Andes (http://astronomia.uniandes.edu.co/index.php/es/)\n",
      "\n",
      "The data is public an avalibale at https://github.com/jngaravitoc/EpsCra/tree/master/data\n",
      "\n",
      "This proyect is maked by the advisor of Prof. Bejamin Oostra of Universidad de los Andes"
     ]
    },
    {
     "cell_type": "code",
     "collapsed": false,
     "input": [
      "%pylab \n",
      "import math"
     ],
     "language": "python",
     "metadata": {},
     "outputs": [
      {
       "output_type": "stream",
       "stream": "stdout",
       "text": [
        "\n",
        "Welcome to pylab, a matplotlib-based Python environment [backend: TkAgg].\n",
        "For more information, type 'help(pylab)'.\n"
       ]
      }
     ],
     "prompt_number": 1
    },
    {
     "cell_type": "code",
     "collapsed": false,
     "input": [
      "Sept10_Epscra_B = np.loadtxt('data/sept10/EpsCRAB/epsiloncra_full.dat')\n",
      "Sept13_Epscra_A = np.loadtxt('data/sept13/EpsCraA/epsiloncra_full.dat')\n",
      "Sept16_Epscra_A = np.loadtxt('data/sept16/EpsCRAA/epsiloncra_full.dat')\n",
      "Sept16_muSco_D = np.loadtxt('data/sept16/mu1scoD/mu1sco_full.dat')\n",
      "Sept30_muSco = np.loadtxt('data/sept30/objet_full.dat')\n",
      "Oct_10_A = np.loadtxt('data/Octubre_15/epsiloncra_full_A.dat')\n",
      "Oct_10_B = np.loadtxt('data/Octubre_15/epsiloncra_full_B.dat')\n",
      "Oct_10_C = np.loadtxt('data/Octubre_15/epsiloncra_full_C.dat')\n",
      "Oct_10_D = np.loadtxt('data/Octubre_15/epsiloncra_full_D.dat')\n",
      "Oct_10_E = np.loadtxt('data/Octubre_15/epsiloncra_full_E.dat')\n",
      "Oct_10_F = np.loadtxt('data/Octubre_15/epsiloncra_full_F.dat')"
     ],
     "language": "python",
     "metadata": {},
     "outputs": [],
     "prompt_number": 2
    },
    {
     "cell_type": "code",
     "collapsed": false,
     "input": [
      "l_1 = Sept10_Epscra_B[:, 0]\n",
      "I_1 = Sept10_Epscra_B[:, 1]\n",
      "\n",
      "l_2 = Sept13_Epscra_A[:, 0]\n",
      "I_2 = Sept13_Epscra_A[:, 1]\n",
      "\n",
      "l_3 = Sept16_Epscra_A[:, 0]\n",
      "I_3 = Sept16_Epscra_A[:, 1]\n",
      "\n",
      "l_4 = Sept16_muSco_D[:, 0]\n",
      "I_4 = Sept16_muSco_D[:, 1]\n",
      "\n",
      "l_5 = Sept30_muSco[:, 0]\n",
      "I_5 = Sept30_muSco[:, 1]\n",
      "\n",
      "l_6 = Oct_10_A[:, 0]\n",
      "I_6 = Oct_10_A[:, 1]\n",
      "\n",
      "l_7 = Oct_10_B[:, 0]\n",
      "I_7 = Oct_10_B[:, 1]\n",
      "\n",
      "l_8 = Oct_10_C[:, 0]\n",
      "I_8 = Oct_10_C[:, 1]\n",
      "\n",
      "l_9 = Oct_10_D[:, 0]\n",
      "I_9 = Oct_10_D[:, 1]\n",
      "\n",
      "l_10 = Oct_10_E[:, 0]\n",
      "I_10 = Oct_10_E[:, 1]\n",
      "\n",
      "l_11 = Oct_10_F[:, 0]\n",
      "I_11 = Oct_10_F[:, 1]\n"
     ],
     "language": "python",
     "metadata": {},
     "outputs": [],
     "prompt_number": 3
    },
    {
     "cell_type": "markdown",
     "metadata": {},
     "source": [
      "Here we define a function that transform the observed wave lenght into redshift taking into account the wavelenght at rest:\n",
      "    \n",
      "Z = $\\dfrac{\\mathrm{\\lambda_{\\mathrm{Obs}}} - \\mathrm{\\lambda_{\\mathrm{Rest}}} } {\\mathrm{\\lambda_{\\mathrm{Rest}}}}$\n",
      "\n",
      "Knowing the redshift we can derive the radial velocity at which the system is going away from us.\n",
      "\n",
      "v = $c \\cdot $ Z\n",
      "\n",
      "with $c = 3^8 ms^{-1}$"
     ]
    },
    {
     "cell_type": "code",
     "collapsed": false,
     "input": [
      "def velocidad(L_r, L_e):\n",
      "    Z = (L_e - L_r) / L_r\n",
      "    v = 3e8 * Z  # in m/s\n",
      "    return  Z, v"
     ],
     "language": "python",
     "metadata": {},
     "outputs": [],
     "prompt_number": 4
    },
    {
     "cell_type": "markdown",
     "metadata": {},
     "source": [
      "busar en la literatura el periodo orbital y con la fecha encontrar la fase en la que estan y graficar velocidad vs fase\n",
      "mirar el ensanchamiento en una linea y correlacionarlo con la fase"
     ]
    },
    {
     "cell_type": "markdown",
     "metadata": {},
     "source": [
      "In the below cell we identify the spectral lines. This lines are going to be used to claculate the radial velocities.\n",
      "\n"
     ]
    },
    {
     "cell_type": "markdown",
     "metadata": {},
     "source": [
      "We identify the spectral lines using the list of atomic lines avaliable in http://spectra.freeshell.org/spectroweb.html\n",
      "\n",
      "In particular we use the spectra of Procyon (F5 IV-V) and Canopus (F0 II) due to the fact that Eps Cra is a F3 class star. \n",
      "\n",
      "For this porpurse we divide the full spectrum in the following intervals:\n",
      "\n",
      "[4250 - 4380]\n",
      "\n",
      "4380 - 4500\n",
      "\n",
      "4495 - 4610\n",
      "\n",
      "4610 - 4713\n",
      "\n",
      "4713 - 4813\n",
      "\n",
      "4813 - 4913\n",
      "\n",
      "4913 - 5073\n",
      "\n",
      "5073 - 5273\n",
      "\n",
      "5273 - 5473\n",
      "\n",
      "5473 - 5673\n",
      "\n",
      "5673 - 5873\n",
      "\n",
      "5873 - 5973\n",
      "\n",
      "5973 - 6073\n",
      "\n",
      "6073 - 6169\n",
      "\n",
      "6169 - 6269\n",
      "\n",
      "6269 - 6369\n",
      "\n",
      "6369 - 6469\n",
      "\n",
      "6569 - 6569\n",
      "\n",
      "6569 - 6650\n",
      "\n",
      "6650 - 6753\n",
      "\n",
      "6750 - 6855\n",
      "\n",
      "6850 - 6955"
     ]
    },
    {
     "cell_type": "code",
     "collapsed": false,
     "input": [
      "def example_plot(ax, l_N, I_N):\n",
      "    new_tick_locations = np.array([0.0, 0.25, 0.5, 0.75, 0.99])\n",
      "    \n",
      "    ax1.plot(l_N, I_N, color = 'green', linewidth= 1.5)\n",
      "    ax1.tick_params(axis='both', which='major', labelsize=18)\n",
      "    ax1.set_ylim([0.31, 1.02])\n",
      "    ax1.set_xlim([4250, 4380])\n",
      "    ax1.axvline(x=4340.162,linewidth=1,color='k')\n",
      "    ax1.axvline(x=4341.162,linewidth=1,color='k', linestyle='--')\n",
      "\n",
      "    \n",
      "    ax2.plot(l_N, I_N, color = 'red', linewidth=1.5)\n",
      "    ax2.tick_params(axis='both', which='major', labelsize=18)\n",
      "    ax2.set_ylim([0.31, 1.16])\n",
      "    ax2.set_xlim([4380, 5000])\n",
      "    ax2.axvline(x=4443.169,linewidth=1,color='k')\n",
      "    ax2.axvline(x=4444.4,linewidth=1,color='k', linestyle='--')\n",
      "    ax2.axvline(x=4549.137,linewidth=1,color='k')\n",
      "    ax2.axvline(x=4550.8,linewidth=1,color='k', linestyle='--')\n",
      "    ax2.axvline(x=4702.991,linewidth=1,color='k')\n",
      "    ax2.axvline(x=4704.0,linewidth=1,color='k', linestyle='--')\n",
      "    ax2.axvline(x=4861.323,linewidth=1,color='k')\n",
      "    ax2.axvline(x=4862.623,linewidth=1,color='k', linestyle = '--')\n",
      "    \n",
      "    \n",
      "    ax3.plot(l_N, I_N, color = 'blue', linewidth=1.5)\n",
      "    ax3.tick_params(axis='both', which='major', labelsize=18)\n",
      "    ax3.set_ylim([0.65, 0.95])\n",
      "    ax3.set_xlim([5000, 5600])\n",
      "    ax3.axvline(x=5018.44,linewidth=1,color='k')\n",
      "    ax3.axvline(5019.5, linewidth=1, color = 'k', linestyle = '--')\n",
      "    ax3.axvline(5169.033,linewidth=1,color='k')\n",
      "    ax3.axvline(5169.87,linewidth=1,color='k', linestyle='--')\n",
      "    \n",
      "    ax4.plot(l_N, I_N, color = 'cyan', linewidth=1.5)\n",
      "    ax4.tick_params(axis='both', which='major', labelsize=18)\n",
      "    ax4.set_ylim([0.58, 0.75])\n",
      "    ax4.set_xlim([5590, 6200])\n",
      "    ax4.axvline(5753.121, linewidth=1, color = 'k')\n",
      "    ax4.axvline(5754.6, linewidth=1, color = 'k', linestyle = '--')\n",
      "    ax4.axvline(5762.99, linewidth=1, color = 'k')\n",
      "    ax4.axvline(5763.5, linewidth=1, color = 'k', linestyle = '--')\n",
      "    \n",
      "    ax5.plot(l_N, I_N, color = 'y', linewidth=1.5)\n",
      "    ax5.tick_params(axis='both', which='major', labelsize=18)\n",
      "    ax5.set_ylim([0.5, 0.9])\n",
      "    ax5.set_xlim([6200, 6650])\n",
      "    \n",
      "    ax6.plot(l_N, I_N, color = 'm', linewidth=1.5)\n",
      "    ax6.tick_params(axis='both', which='major', labelsize=18)\n",
      "    ax6.set_ylim([0.0, 1.8])\n",
      "    ax6.set_xlim([6650, 7030])\n",
      "    ax6.set_xlabel('$\\mathrm{Longitud}$ $\\mathrm{de}$ $\\mathrm{Onda}$', fontsize=29)"
     ],
     "language": "python",
     "metadata": {},
     "outputs": [],
     "prompt_number": 5
    },
    {
     "cell_type": "code",
     "collapsed": false,
     "input": [
      "fig = plt.figure()\n",
      "fig = figure(figsize=(22.5, 14.5))\n",
      "\n",
      "fig.text(0.64, 0.84,r'$\\mathrm{HI}$', fontsize =25)\n",
      "fig.text(0.18, 0.72,r'$\\mathrm{FeI}$', fontsize =25)\n",
      "fig.text(0.30, 0.72,r'$\\mathrm{FeII}$', fontsize =25)\n",
      "fig.text(0.49, 0.72,r'$\\mathrm{MgI}$', fontsize =25)\n",
      "fig.text(0.69, 0.72,r'$\\mathrm{HI}$', fontsize =25)\n",
      "fig.text(0.13, 0.56,r'$\\mathrm{FeII}$', fontsize =25)\n",
      "fig.text(0.31, 0.56,r'$\\mathrm{FeII}$', fontsize =25)\n",
      "fig.text(0.35, 0.44,r'$\\mathrm{FeI}$', fontsize =25)\n",
      "fig.text(0.31, 0.44,r'$\\mathrm{FeI}$', fontsize =25)\n",
      "\n",
      "\n",
      "\n",
      "ax1 = plt.subplot2grid((6, 1), (0, 0))\n",
      "ax2 = plt.subplot2grid((6, 1), (1, 0))\n",
      "ax3 = plt.subplot2grid((6, 1), (2, 0))\n",
      "ax4 = plt.subplot2grid((6, 1), (3, 0))\n",
      "ax5 = plt.subplot2grid((6, 1), (4, 0))\n",
      "ax6 = plt.subplot2grid((6, 1), (5, 0))\n",
      "\n",
      "example_plot(ax1, l_6, I_6)\n",
      "example_plot(ax2, l_6, I_6)\n",
      "example_plot(ax3, l_6, I_6)\n",
      "example_plot(ax4, l_6, I_6)\n",
      "example_plot(ax5, l_6, I_6)\n",
      "example_plot(ax6, l_6, I_6)\n",
      "\n",
      "plt.savefig('spectra.png')\n",
      "\n",
      "\n",
      "#plt.xlim([-18.0, 18.0])\n",
      "#plt.xlabel (r'$\\mathrm{x}$', fontsize=35)\n",
      "#plt.ylabel ('$\\mathrm{Intensity}$ $\\mathrm{(Arbitrary Units)}$', fontsize=35)\n",
      "#plt.title (r'$\\mu = (-0.1, 0.1), \\theta = 0.0,\\tau=10^5$, $\\mathrm{v=100}$', fontsize=35)\n",
      "#plt.legend([0.25, -0.25])\n"
     ],
     "language": "python",
     "metadata": {},
     "outputs": [],
     "prompt_number": 6
    },
    {
     "cell_type": "code",
     "collapsed": false,
     "input": [
      "example_plot(ax1, l_7, I_7)\n",
      "example_plot(ax2, l_7, I_7)\n",
      "example_plot(ax3, l_7, I_7)\n",
      "example_plot(ax4, l_7, I_7)\n",
      "example_plot(ax5, l_7, I_7)\n",
      "example_plot(ax6, l_7, I_7)"
     ],
     "language": "python",
     "metadata": {},
     "outputs": [],
     "prompt_number": 24
    },
    {
     "cell_type": "heading",
     "level": 1,
     "metadata": {},
     "source": [
      "Velocidad teorica respecto al sol es de 60km/s"
     ]
    },
    {
     "cell_type": "raw",
     "metadata": {},
     "source": [
      "Lineas escogidas en el espectro de Octubre 15 A\n",
      "\n",
      "4340.162 HI\n",
      "4443.87 Fe I\n",
      "o \n",
      "4443.196 Fe I\n",
      "4549.147 Fe I\n",
      "4702.991 Mg I\n",
      "4861.323 HI\n",
      "5018.440 Fe II\n",
      "5169.033 Fe II\n",
      "5753.121 Fe I\n",
      "5762.99 Fe I"
     ]
    },
    {
     "cell_type": "code",
     "collapsed": false,
     "input": [
      "Z1, V1 = velocidad(4340.162, 4341.462) #HI \n",
      "Z2, V2 = velocidad(4443.196, 4444.4) #Fe I \n",
      "Z3, V3 = velocidad(4549.472, 4550.8) #Fe II \n",
      "Z4, V4 = velocidad(4702.598, 4703.9)  #Fe II\n",
      "Z5, V5 = velocidad(5753.121, 5754.6) #HI\n",
      "Z6, V6 = velocidad(5762.23,  5763.7) #HI\n",
      "Z7, V7 = velocidad(5018.35,  5019.7) #HI\n",
      "Z8, V8 = velocidad(5168.3,   5169.8) #Fe II\n",
      "Z9, V9 = velocidad(4861.323 ,4862.8) #HI\n",
      "\n",
      "Zerr1, Verr1 = velocidad(4341.462, 4341.362)\n",
      "Zerr2, Verr2 = velocidad(4444.4, 4444.5)\n",
      "Zerr3, Verr3 = velocidad(4550.8, 4550.9)\n",
      "Zerr4, Verr4 = velocidad(4703.9, 4704.0)\n",
      "Zerr5, Verr5 = velocidad(5754.6, 5754.7)\n",
      "Zerr6, Verr6 = velocidad(5763.7, 5763.8)\n",
      "Zerr7, Verr7 = velocidad(5019.7, 5019.8)\n",
      "Zerr8, Verr8 = velocidad(5169.8, 5169.9)\n",
      "Zerr9, Verr9 = velocidad(4862.8, 4862.9)\n",
      "\n",
      "print 'Redshift' , '               Velocidad en m/s'\n",
      "print Z1,'     ', V1\n",
      "print Z2,'     ', V2\n",
      "print Z3,'     ', V3\n",
      "print Z4,'     ', V4\n",
      "print Z5,'      ', V5\n",
      "print Z6,'      ', V6\n",
      "print Z7,'      ', V7\n",
      "print Z8,'      ', V8\n",
      "print Z9,'      ', V9    \n",
      "    \n",
      "\n",
      "AvgZ = (Z1 + Z2 + Z3 + Z4 + Z5 + Z6 + Z7 + Z8 + Z9) /9.0\n",
      "AvgV = (V1 + V2 + V3 + V4 + V5 + V6 + V7 + V8 + V9) /9.0\n",
      "\n",
      "print 'Average Z', '           Average V'\n",
      "print AvgZ, '  ',AvgV\n",
      "print Zerr1, '   ', Verr1\n",
      "print Zerr2, '   ', Verr2\n",
      "print Zerr3, '   ', Verr3\n",
      "print Zerr4, '   ', Verr4\n",
      "print Zerr5, '   ', Verr5\n",
      "print Zerr6, '   ', Verr6\n",
      "print Zerr7, '   ', Verr7\n",
      "print Zerr8, '   ', Verr8\n",
      "print Zerr9, '   ', Verr9\n",
      "\n",
      "    "
     ],
     "language": "python",
     "metadata": {},
     "outputs": [
      {
       "output_type": "stream",
       "stream": "stdout",
       "text": [
        "Redshift                Velocidad en m/s\n",
        "0.000299527989969       89858.3969907\n",
        "0.000270976117191       81292.8351574\n",
        "0.000291902005332       87570.6015995\n",
        "0.000276868233262       83060.4699785\n",
        "0.000257077853916        77123.3561749\n",
        "0.000255109566956        76532.8700868\n",
        "0.000269012723305        80703.8169916\n",
        "0.000290230830254        87069.2490761\n",
        "0.000303826756626        91148.0269877\n",
        "Average Z            Average V\n",
        "0.000279392452979    83817.7358937\n",
        "-2.30337153706e-05     -6910.11461119\n",
        "2.25002250023e-05     6750.0675007\n",
        "2.19741583896e-05     6592.24751688\n",
        "2.1258955335e-05     6377.6866005\n",
        "1.73774024258e-05     5213.22072774\n",
        "1.73499661676e-05     5204.98985029\n",
        "1.99215092536e-05     5976.45277608\n",
        "1.93431080505e-05     5802.93241515\n",
        "2.05642839515e-05     6169.28518546\n"
       ]
      }
     ],
     "prompt_number": 31
    },
    {
     "cell_type": "markdown",
     "metadata": {},
     "source": [
      "Velocidad Promedio calculada con el Redshift de las 9 lineas $V = 66.167 kms^{-1}$\n",
      "\n",
      "\n",
      "Velocidad dada por ISIS $V_{isis}= 28.532 km/s$\n",
      "\n",
      "por lo tanto la velocidad de recesion de Eps CRA sera:\n",
      "\n",
      "$V_{res} = V- V_{isis} = 83.817 kms^{-1}- 28.532 kms^{-1} =  37.635 kms^{-1}$ "
     ]
    },
    {
     "cell_type": "markdown",
     "metadata": {},
     "source": [
      "mirar variaciones del ancho con la misma linea pero en dieferentes espectros"
     ]
    },
    {
     "cell_type": "code",
     "collapsed": false,
     "input": [
      "#hacer este plot contra longitud de onda\n",
      "x = [2, 3, 4, 5, 6, 7, 8, 9, 10]\n",
      "x2 = [-1, 0, 1, 2, 3, 4, 5, 6, 7, 8, 9, 10]\n",
      "l = [4340.162, 4443.196, 4549.472, 4702.598, 5753.121,5762.23, 5018.35, 5168.3, 4861.323]\n",
      "l2 = [4200.162, 4400.196, 4600, 4800, 5000, 5200.23, 5400.35, 5600.3, 5800.323]\n",
      "vel = [V1-28532, V2-28532, V3-28532, V4-28532, V5-28532, V6-28532, V7-28532, V8-28532, V9-28532]\n",
      "velt = [57900, 57900, 57900, 57900, 57900, 57900,  57900, 57900, 57900]\n",
      "vele = [83817.7358937-28532, 83817.7358937-28532, 83817.7358937-28532, 83817.7358937-28532, 83817.7358937-28532, 83817.7358937-28532, 83817.7358937-28532, 83817.7358937-28532, 83817.7358937-28532]\n",
      "print len(l), len(velt)\n",
      "figure(1, figsize=(9.5, 9))\n",
      "\n",
      "plt.errorbar(l, vel, yerr=[6910, 6750, 6592, 6377, 5213, 5204, 5976, 5802, 6169], fmt='o', ms=6, c='k')\n",
      "#p = np.polyfit(x, vel, 1)\n",
      "plt.errorbar(l2, vele, linestyle='-.', c='b', linewidth=2.5)\n",
      "plt.errorbar(l2, velt, yerr=1200, c='r', linewidth =1.5)\n",
      "plt.xlim([4200, 5800])\n",
      "plt.ylim([42000, 72000])\n",
      "plt.legend(['$\\mathrm{This}$ $\\mathrm{work}$', '$\\mathrm{This}$ $\\mathrm{work}$ $\\mathrm{average}$', '$\\mathrm{S.Bilir}$ $\\mathrm{et}$ $\\mathrm{al}$'], fontsize=15, ncol=3)\n",
      "plt.tick_params(axis='both', which='major', labelsize=15)\n",
      "plt.ylabel('$\\mathrm{Velocity(kms^{-1})}$', fontsize=28)\n",
      "plt.xlabel('$\\mathrm{Longitud}$ $\\mathrm{de}$ $\\mathrm{Onda}(\\AA)$', fontsize=28)\n",
      "plt.savefig('radialvelocity.png')\n"
     ],
     "language": "python",
     "metadata": {},
     "outputs": [
      {
       "output_type": "stream",
       "stream": "stdout",
       "text": [
        "9 9\n"
       ]
      }
     ],
     "prompt_number": 54
    },
    {
     "cell_type": "code",
     "collapsed": false,
     "input": [
      "errors = [6910, 6750, 6592, 6377, 5213, 5204, 5976, 5802, 6169]\n",
      "average(errors  )"
     ],
     "language": "python",
     "metadata": {},
     "outputs": [
      {
       "output_type": "pyout",
       "prompt_number": 191,
       "text": [
        "6110.333333333333"
       ]
      }
     ],
     "prompt_number": 191
    },
    {
     "cell_type": "heading",
     "level": 1,
     "metadata": {},
     "source": [
      "Determinacion de las Fases"
     ]
    },
    {
     "cell_type": "raw",
     "metadata": {},
     "source": [
      "Selecting axes\n",
      "\n",
      "datos de tiempo \n",
      "\n",
      "sept10 A    11.007\n",
      "sept10 B    11.017\n",
      "sept10 C    11.032\n",
      "Sept13 A    13.996\n",
      "sept13 B    14.039\n",
      "Sept13 C    14.062\n",
      "Oct15 A     16.006\n",
      "oct15 B     16.016\n",
      "oct15 C     16.032\n",
      "oct15 D     16.045\n",
      "oct15 E     16.057\n",
      "oct15 F     16.07"
     ]
    },
    {
     "cell_type": "code",
     "collapsed": false,
     "input": [
      "T_oct15 = np.array([16.006, 16.016, 16.032, 16.045, 16.057, 16.07])\n",
      "Periodo = 14\n",
      "\n",
      "Fase = (T_oct15/Periodo)-1.0\n",
      "print Fase"
     ],
     "language": "python",
     "metadata": {},
     "outputs": [
      {
       "output_type": "stream",
       "stream": "stdout",
       "text": [
        "[ 0.14328571  0.144       0.14514286  0.14607143  0.14692857  0.14785714]\n"
       ]
      }
     ],
     "prompt_number": 7
    },
    {
     "cell_type": "code",
     "collapsed": false,
     "input": [
      "esp1 = Oct_10_A[:,0]\n",
      "lon1 = Oct_10_A[:,1]\n",
      "\n",
      "esp2 = Oct_10_B[:,0] \n",
      "lon2 = Oct_10_B[:,1]\n",
      "\n",
      "esp3 = Oct_10_C[:,0]  \n",
      "lon3 = Oct_10_C[:,1]  \n",
      "\n",
      "esp4 = Oct_10_D[:,0] \n",
      "lon4 = Oct_10_D[:,1] \n",
      "\n",
      "esp5 = Oct_10_E[:,0] \n",
      "lon5 = Oct_10_E[:,1] \n",
      "\n",
      "esp6 = Oct_10_F[:,0]\n",
      "lon6 = Oct_10_F[:,1]"
     ],
     "language": "python",
     "metadata": {},
     "outputs": [],
     "prompt_number": 8
    },
    {
     "cell_type": "code",
     "collapsed": false,
     "input": [
      "figure(num=None, figsize=(9.5, 9))\n",
      "plt.plot(esp1, lon1)\n",
      "plt.plot(esp2, lon2)\n",
      "plt.plot(esp3, lon3)\n",
      "plt.plot(esp4, lon4)\n",
      "plt.plot(esp5, lon5)\n",
      "plt.plot(esp6, lon6)\n",
      "plt.xlim([4440, 4450])\n",
      "plt.ylim([0.85, 1.4])\n",
      "plt.axvline(4444.15, c='y')\n",
      "plt.axvline(4444.24, c='m')\n",
      "plt.axvline(4444.3, c='c')\n",
      "plt.axvline(4444.35, c='r')\n",
      "plt.axvline(4444.35, c='g')\n",
      "plt.axvline(4444.4, c='b')\n",
      "plt.xlabel('$\\mathrm{Longitud}$ $\\mathrm{de}$ $\\mathrm{Onda}(\\AA)$', fontsize=28)\n",
      "plt.ylabel('$\\mathrm{Intensidad}$', fontsize=28)\n",
      "plt.tick_params(axis='both', which='major', labelsize=15)\n",
      "plt.savefig('epscraEspectra.png')"
     ],
     "language": "python",
     "metadata": {},
     "outputs": [],
     "prompt_number": 9
    },
    {
     "cell_type": "code",
     "collapsed": false,
     "input": [
      "V = [81.29283, 77.91688, 77.91688,74.54093 ,70.489, 64.413]\n",
      "FWHM = [1.81, 1.87, 1.96,  1.9, 1.89, 1.98]\n",
      "figure(num=None, figsize=(9.5, 9))\n",
      "plt.plot(esp6, lon6)\n",
      "plt.xlim([4440, 4450])\n",
      "plt.ylim([1.1, 1.4])\n",
      "plt.axvline(4443.196)\n",
      "plt.axvline(4444.15, c='b')\n",
      "#plt.text(10.0, 10.0, '$v=64.413 km/s$')\n",
      "v1 = velocidad(4444.35, 4444.4)\n",
      "print v1"
     ],
     "language": "python",
     "metadata": {},
     "outputs": [
      {
       "output_type": "stream",
       "stream": "stdout",
       "text": [
        "(1.1250239067416473e-05, 3375.071720224942)\n"
       ]
      }
     ],
     "prompt_number": 25
    },
    {
     "cell_type": "code",
     "collapsed": false,
     "input": [
      "figure(num=None, figsize=(9.5, 9))\n",
      "plt.xlabel('$\\mathrm{Fase}$', fontsize=28)\n",
      "plt.ylabel('$\\mathrm{Velocidad(km/s)}$', fontsize=28)\n",
      "plt.errorbar(Fase, V, yerr=33.75, linestyle='.', marker='o')\n",
      "plt.ylim()\n",
      "plt.tick_params(axis='both', which='major', labelsize=15)\n",
      "plt.savefig('velocidadvsfase.png')"
     ],
     "language": "python",
     "metadata": {},
     "outputs": [],
     "prompt_number": 55
    },
    {
     "cell_type": "code",
     "collapsed": false,
     "input": [
      "figure(num=None, figsize=(9.5, 9))\n",
      "plt.xlabel('$\\mathrm{Fase}$', fontsize=28)\n",
      "plt.ylabel('$\\mathrm{FWHM(\\AA)}$', fontsize=28)\n",
      "plt.errorbar(Fase, FWHM, yerr=0.5, linestyle='.', marker='o')\n",
      "plt.ylim()\n",
      "plt.tick_params(axis='both', which='major', labelsize=15)\n",
      "plt.savefig('anchovsfase.png')"
     ],
     "language": "python",
     "metadata": {},
     "outputs": [],
     "prompt_number": 29
    },
    {
     "cell_type": "code",
     "collapsed": false,
     "input": [],
     "language": "python",
     "metadata": {},
     "outputs": []
    }
   ],
   "metadata": {}
  }
 ]
}