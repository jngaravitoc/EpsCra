{
 "metadata": {
  "name": "Spica"
 },
 "nbformat": 3,
 "nbformat_minor": 0,
 "worksheets": [
  {
   "cells": [
    {
     "cell_type": "code",
     "collapsed": false,
     "input": [
      "%pylab\n",
      "import math"
     ],
     "language": "python",
     "metadata": {},
     "outputs": [
      {
       "output_type": "stream",
       "stream": "stdout",
       "text": [
        "\n",
        "Welcome to pylab, a matplotlib-based Python environment [backend: TkAgg].\n",
        "For more information, type 'help(pylab)'.\n"
       ]
      },
      {
       "output_type": "stream",
       "stream": "stderr",
       "text": [
        "/usr/lib/pymodules/python2.7/matplotlib/__init__.py:1035: UserWarning:  This call to matplotlib.use() has no effect\n",
        "because the the backend has already been chosen;\n",
        "matplotlib.use() must be called *before* pylab, matplotlib.pyplot,\n",
        "or matplotlib.backends is imported for the first time.\n",
        "\n",
        "  warnings.warn(_use_error_msg)\n"
       ]
      }
     ],
     "prompt_number": 3
    },
    {
     "cell_type": "heading",
     "level": 1,
     "metadata": {},
     "source": [
      "DEFINING DATA!"
     ]
    },
    {
     "cell_type": "code",
     "collapsed": false,
     "input": [
      "Spica_Julio2A = np.loadtxt('/home/nicolas/Dropbox/github/EpsCra/data/Spica/orden51/julio2A.dat')\n",
      "Spica_Julio2B = np.loadtxt('/home/nicolas/Dropbox/github/EpsCra/data/Spica/orden51/julio2B.dat')\n",
      "Spica_Julio2C = np.loadtxt('/home/nicolas/Dropbox/github/EpsCra/data/Spica/orden51/julio2C.dat')\n",
      "Spica_Julio2D = np.loadtxt('/home/nicolas/Dropbox/github/EpsCra/data/Spica/orden51/julio2D.dat')\n",
      "Spica_Julio2E = np.loadtxt('/home/nicolas/Dropbox/github/EpsCra/data/Spica/orden51/julio2E.dat')\n",
      "Spica_Julio2F = np.loadtxt('/home/nicolas/Dropbox/github/EpsCra/data/Spica/orden51/julio2F.dat')\n",
      "Spica_Julio2G = np.loadtxt('/home/nicolas/Dropbox/github/EpsCra/data/Spica/orden51/julio2G.dat')\n",
      "Spica_Julio2H = np.loadtxt('/home/nicolas/Dropbox/github/EpsCra/data/Spica/orden51/julio2H.dat')\n",
      "\n",
      "Spica_Julio3A = np.loadtxt('/home/nicolas/Dropbox/github/EpsCra/data/Spica/orden51/julio3A.dat')\n",
      "Spica_Julio3B = np.loadtxt('/home/nicolas/Dropbox/github/EpsCra/data/Spica/orden51/julio3B.dat')\n",
      "Spica_Julio3C = np.loadtxt('/home/nicolas/Dropbox/github/EpsCra/data/Spica/orden51/julio3C.dat')\n",
      "\n",
      "Spica_Julio4B = np.loadtxt('/home/nicolas/Dropbox/github/EpsCra/data/Spica/orden51/julio4B.dat')\n",
      "Spica_Julio4C = np.loadtxt('/home/nicolas/Dropbox/github/EpsCra/data/Spica/orden51/julio4C.dat')\n",
      "\n",
      "Spica_Junio21A = np.loadtxt('/home/nicolas/Dropbox/github/EpsCra/data/Spica/orden51/junio21A.dat')\n",
      "Spica_Junio21B = np.loadtxt('/home/nicolas/Dropbox/github/EpsCra/data/Spica/orden51/junioB21.dat')\n",
      "Spica_Junio21C = np.loadtxt('/home/nicolas/Dropbox/github/EpsCra/data/Spica/orden51/junioC21.dat')\n",
      "Spica_Junio21D = np.loadtxt('/home/nicolas/Dropbox/github/EpsCra/data/Spica/orden51/junioD21.dat')\n",
      "Spica_Junio21E = np.loadtxt('/home/nicolas/Dropbox/github/EpsCra/data/Spica/orden51/junioE21.dat')\n",
      "Spica_Junio21F = np.loadtxt('/home/nicolas/Dropbox/github/EpsCra/data/Spica/orden51/junioF21.dat')\n",
      "Spica_Junio21G = np.loadtxt('/home/nicolas/Dropbox/github/EpsCra/data/Spica/orden51/junioG21.dat')\n",
      "Spica_Junio21H = np.loadtxt('/home/nicolas/Dropbox/github/EpsCra/data/Spica/orden51/junioH21.dat')\n",
      "Spica_Junio21I = np.loadtxt('/home/nicolas/Dropbox/github/EpsCra/data/Spica/orden51/junioI21.dat')\n",
      "Spica_Junio21J = np.loadtxt('/home/nicolas/Dropbox/github/EpsCra/data/Spica/orden51/junioJ21.dat')\n",
      "Spica_Junio21K = np.loadtxt('/home/nicolas/Dropbox/github/EpsCra/data/Spica/orden51/junioK21.dat')\n",
      "\n",
      "Spica_Junio5A = np.loadtxt('/home/nicolas/Dropbox/github/EpsCra/data/Spica/orden51/junioA5.dat')\n",
      "Spica_Junio5B = np.loadtxt('/home/nicolas/Dropbox/github/EpsCra/data/Spica/orden51/junioB5.dat')\n",
      "Spica_Junio5C = np.loadtxt('/home/nicolas/Dropbox/github/EpsCra/data/Spica/orden51/junioC5.dat')\n",
      "Spica_Junio5D = np.loadtxt('/home/nicolas/Dropbox/github/EpsCra/data/Spica/orden51/junioD5.dat')\n",
      "Spica_Junio5E = np.loadtxt('/home/nicolas/Dropbox/github/EpsCra/data/Spica/orden51/junioE5.dat')\n",
      "Spica_Junio5F = np.loadtxt('/home/nicolas/Dropbox/github/EpsCra/data/Spica/orden51/junioF5.dat')\n",
      "Spica_Junio5G = np.loadtxt('/home/nicolas/Dropbox/github/EpsCra/data/Spica/orden51/junioG5.dat')\n",
      "Spica_Junio5H = np.loadtxt('/home/nicolas/Dropbox/github/EpsCra/data/Spica/orden51/junioH5.dat')\n",
      "Spica_Junio5I = np.loadtxt('/home/nicolas/Dropbox/github/EpsCra/data/Spica/orden51/junioI5.dat')\n",
      "Spica_Junio5J = np.loadtxt('/home/nicolas/Dropbox/github/EpsCra/data/Spica/orden51/junioJ5.dat')\n",
      "Spica_Junio5K = np.loadtxt('/home/nicolas/Dropbox/github/EpsCra/data/Spica/orden51/junioK5.dat')\n",
      "Spica_Junio5L = np.loadtxt('/home/nicolas/Dropbox/github/EpsCra/data/Spica/orden51/junioL5.dat')\n",
      "Spica_Junio5M = np.loadtxt('/home/nicolas/Dropbox/github/EpsCra/data/Spica/orden51/junioM5.dat')\n",
      "Spica_Junio5N = np.loadtxt('/home/nicolas/Dropbox/github/EpsCra/data/Spica/orden51/junioN5.dat')\n",
      "Spica_Junio5O = np.loadtxt('/home/nicolas/Dropbox/github/EpsCra/data/Spica/orden51/junioO5.dat')\n",
      "Spica_Junio5P = np.loadtxt('/home/nicolas/Dropbox/github/EpsCra/data/Spica/orden51/junioP5.dat')\n",
      "Spica_Junio5Q = np.loadtxt('/home/nicolas/Dropbox/github/EpsCra/data/Spica/orden51/junioQ5.dat')\n"
     ],
     "language": "python",
     "metadata": {},
     "outputs": [],
     "prompt_number": 4
    },
    {
     "cell_type": "heading",
     "level": 1,
     "metadata": {},
     "source": [
      "Selecting rows from Junio 5 "
     ]
    },
    {
     "cell_type": "code",
     "collapsed": false,
     "input": [
      "l_sj3A = Spica_Julio3A[:,0]\n",
      "I_sj3A = Spica_Julio3A[:,1]\n",
      "\n",
      "l_sj3B = Spica_Julio3B[:,0]\n",
      "I_sj3B = Spica_Julio3B[:,1]\n",
      "\n",
      "l_sj3C = Spica_Julio3C[:,0]\n",
      "I_sj3C = Spica_Julio3C[:,1]\n",
      "\n",
      "l_sj4B = Spica_Julio4B[:,0]\n",
      "I_sj4B = Spica_Julio4B[:,1]\n",
      "\n",
      "l_sj4C = Spica_Julio4C[:,0]\n",
      "I_sj4C = Spica_Julio4C[:,1]"
     ],
     "language": "python",
     "metadata": {},
     "outputs": [],
     "prompt_number": 5
    },
    {
     "cell_type": "code",
     "collapsed": false,
     "input": [
      "l_sj5A = Spica_Junio5A[:,0]\n",
      "I_sj5A = Spica_Junio5A[:,1]\n",
      "\n",
      "l_sj5B = Spica_Junio5B[:,0]\n",
      "I_sj5B = Spica_Junio5B[:,1]\n",
      "\n",
      "l_sj5C = Spica_Junio5C[:,0]\n",
      "I_sj5C = Spica_Junio5C[:,1]\n",
      "\n",
      "l_sj5D = Spica_Junio5D[:,0]\n",
      "I_sj5D = Spica_Junio5D[:,1]\n",
      "\n",
      "l_sj5E = Spica_Junio5E[:,0]\n",
      "I_sj5E = Spica_Junio5E[:,1]\n",
      "\n",
      "l_sj5F = Spica_Junio5F[:,0]\n",
      "I_sj5F = Spica_Junio5F[:,1]\n",
      "\n",
      "l_sj5G = Spica_Junio5G[:,0]\n",
      "I_sj5G = Spica_Junio5G[:,1]\n",
      "\n",
      "l_sj5H = Spica_Junio5H[:,0]\n",
      "I_sj5H = Spica_Junio5H[:,1]\n",
      "\n",
      "l_sj5I = Spica_Junio5I[:,0]\n",
      "I_sj5I = Spica_Junio5I[:,1]\n",
      "\n",
      "l_sj5J = Spica_Junio5J[:,0]\n",
      "I_sj5J = Spica_Junio5J[:,1]\n",
      "\n",
      "l_sj5K = Spica_Junio5K[:,0]\n",
      "I_sj5K = Spica_Junio5K[:,1]\n",
      "\n",
      "l_sj5L = Spica_Junio5L[:,0]\n",
      "I_sj5L = Spica_Junio5L[:,1]\n",
      "\n",
      "l_sj5M = Spica_Junio5M[:,0]\n",
      "I_sj5M = Spica_Junio5M[:,1]\n",
      "\n",
      "l_sj5N = Spica_Junio5N[:,0]\n",
      "I_sj5N = Spica_Junio5N[:,1]\n",
      "\n",
      "l_sj5O = Spica_Junio5O[:,0]\n",
      "I_sj5O = Spica_Junio5O[:,1]\n",
      "\n",
      "l_sj5P = Spica_Junio5P[:,0]\n",
      "I_sj5P = Spica_Junio5P[:,1]\n",
      "\n",
      "l_sj5Q = Spica_Junio5Q[:,0]\n",
      "I_sj5Q = Spica_Junio5Q[:,1]"
     ],
     "language": "python",
     "metadata": {},
     "outputs": [],
     "prompt_number": 6
    },
    {
     "cell_type": "code",
     "collapsed": false,
     "input": [
      "l_sj2A = Spica_Julio2A[:,0]\n",
      "I_sj2A = Spica_Julio2A[:,1]\n",
      "\n",
      "l_sj2B = Spica_Julio2B[:,0]\n",
      "I_sj2B = Spica_Julio2B[:,1]\n",
      "\n",
      "l_sj2C = Spica_Julio2C[:,0]\n",
      "I_sj2C = Spica_Julio2C[:,1]\n",
      "\n",
      "l_sj2D = Spica_Julio2D[:,0]\n",
      "I_sj2D = Spica_Julio2D[:,1]\n",
      "\n",
      "l_sj2E = Spica_Julio2E[:,0]\n",
      "I_sj2E = Spica_Julio2E[:,1]\n",
      "\n",
      "l_sj2F = Spica_Julio2F[:,0]\n",
      "I_sj2F = Spica_Julio2F[:,1]\n",
      "\n",
      "l_sj2G = Spica_Julio2G[:,0]\n",
      "I_sj2G = Spica_Julio2G[:,1]\n",
      "\n",
      "l_sj2H = Spica_Julio2H[:,0]\n",
      "I_sj2H = Spica_Julio2H[:,1]"
     ],
     "language": "python",
     "metadata": {},
     "outputs": [],
     "prompt_number": 7
    },
    {
     "cell_type": "code",
     "collapsed": false,
     "input": [
      "l_sj21A = Spica_Junio21A[:,0]\n",
      "I_sj21A = Spica_Junio21A[:,1]\n",
      "\n",
      "l_sj21B = Spica_Junio21B[:,0]\n",
      "I_sj21B = Spica_Junio21B[:,1]\n",
      "\n",
      "l_sj21C = Spica_Junio21C[:,0]\n",
      "I_sj21C = Spica_Junio21C[:,1]\n",
      "\n",
      "l_sj21D = Spica_Junio21D[:,0]\n",
      "I_sj21D = Spica_Junio21D[:,1]\n",
      "\n",
      "l_sj21E = Spica_Junio21E[:,0]\n",
      "I_sj21E = Spica_Junio21E[:,1]\n",
      "\n",
      "l_sj21F = Spica_Junio21F[:,0]\n",
      "I_sj21F = Spica_Junio21F[:,1]\n",
      "\n",
      "l_sj21G = Spica_Junio21G[:,0]\n",
      "I_sj21G = Spica_Junio21G[:,1]\n",
      "\n",
      "l_sj21H = Spica_Junio21H[:,0]\n",
      "I_sj21H = Spica_Junio21H[:,1]\n",
      "\n",
      "l_sj21I = Spica_Junio21I[:,0]\n",
      "I_sj21I = Spica_Junio21I[:,1]\n",
      "\n",
      "l_sj21J = Spica_Junio21J[:,0]\n",
      "I_sj21J = Spica_Junio21J[:,1]\n",
      "\n",
      "l_sj21K = Spica_Junio21K[:,0]\n",
      "I_sj21K = Spica_Junio21K[:,1]"
     ],
     "language": "python",
     "metadata": {},
     "outputs": [],
     "prompt_number": 8
    },
    {
     "cell_type": "heading",
     "level": 1,
     "metadata": {},
     "source": [
      "Plotting"
     ]
    },
    {
     "cell_type": "markdown",
     "metadata": {},
     "source": [
      "Finding double peak position "
     ]
    },
    {
     "cell_type": "code",
     "collapsed": false,
     "input": [
      "#plt.plot(l_sj21A, I_sj21A)\n",
      "#plt.plot(l_sj21B, I_sj21B)\n",
      "#plt.plot(l_sj21C, I_sj21C)\n",
      "#plt.plot(l_sj21D, I_sj21D)\n",
      "#plt.plot(l_sj21E, I_sj21E)\n",
      "#plt.plot(l_sj21F, I_sj21F)\n",
      "#plt.plot(l_sj21G, I_sj21G)\n",
      "#plt.plot(l_sj21H, I_sj21H)\n",
      "#plt.plot(l_sj21I, I_sj21I)\n",
      "#plt.plot(l_sj2A, I_sj2A)\n",
      "#plt.plot(l_sj2B, I_sj2B)\n",
      "#plt.plot(l_sj2C, I_sj2C)\n",
      "#plt.plot(l_sj2E, I_sj2E)\n",
      "#plt.plot(l_sj2F, I_sj2F)\n",
      "#plt.plot(l_sj2G, I_sj2G)\n",
      "#plt.plot(l_sj2H, I_sj2H)\n",
      "\n",
      "\n",
      "#plt.plot(l_sj3A, I_sj3A)\n",
      "#plt.plot(l_sj3B, I_sj3B)\n",
      "#plt.plot(l_sj3C, I_sj3C)\n",
      "\n",
      "plt.plot(l_sj4B, I_sj4B)\n",
      "plt.plot(l_sj4C, I_sj4C)\n",
      "\n",
      "#plt.xlim([4370, 4399])\n",
      "plt.ylim([1.0, 1.9])\n",
      "plt.axvline(4390.1, c='r')\n",
      "plt.axvline(4385.9, c='r')\n",
      "#savefig('sj21D.png')"
     ],
     "language": "python",
     "metadata": {},
     "outputs": [
      {
       "output_type": "pyout",
       "prompt_number": 7,
       "text": [
        "<matplotlib.lines.Line2D at 0x3957e90>"
       ]
      }
     ],
     "prompt_number": 7
    },
    {
     "cell_type": "code",
     "collapsed": false,
     "input": [
      "fig = plt.figure()\n",
      "fig = figure(figsize=(9.5, 9))\n",
      "\n",
      "plt.plot(l_sj5A, I_sj5A)\n",
      "plt.xlim([4380, 4400])\n",
      "#plt.ylim([1.08, 1.3])\n",
      "\n",
      "plt.plot(l_sj5B, I_sj5B, c = 'red')\n",
      "plt.xlim([4380, 4400])\n",
      "plt.ylim([0.8, 1.5])\n",
      "\n",
      "plt.plot(l_sj5C, I_sj5C, c= 'g')\n",
      "plt.xlim([4380, 4400])\n",
      "\n",
      "plt.plot(l_sj5D, I_sj5D, c= 'k')\n",
      "plt.xlim([4380, 4400])\n",
      "#plt.ylim([1.08, 1.5])\n",
      "\n",
      "plt.plot(l_sj5E, I_sj5E, c= 'y')\n",
      "plt.xlim([4380, 4400])\n",
      "\n",
      "plt.plot(l_sj5F, I_sj5F, c= 'c')\n",
      "plt.xlim([4380, 4400])\n",
      "\n",
      "plt.plot(l_sj5G, I_sj5G, c= 'red')\n",
      "plt.xlim([4380, 4400])\n",
      "\n",
      "plt.plot(l_sj5H, I_sj5H, c= 'b')\n",
      "plt.xlim([4380, 4400])\n",
      "\n",
      "plt.plot(l_sj5I, I_sj5I, c= 'g')\n",
      "plt.xlim([4380, 4400])"
     ],
     "language": "python",
     "metadata": {},
     "outputs": [
      {
       "output_type": "pyout",
       "prompt_number": 10,
       "text": [
        "(4380, 4400)"
       ]
      }
     ],
     "prompt_number": 10
    },
    {
     "cell_type": "markdown",
     "metadata": {},
     "source": [
      "Conclusiones parciales:\n",
      "\n",
      "los mejores espectros son los de julio 2 y los de junio 5.\n",
      "\n",
      "en los demas no es evidente la linea espectral de Spica 2"
     ]
    },
    {
     "cell_type": "heading",
     "level": 1,
     "metadata": {},
     "source": [
      "Dates and time of the spectra\n"
     ]
    },
    {
     "cell_type": "markdown",
     "metadata": {},
     "source": [
      "junio 5 A: 4.997/06/2013\n",
      "\n",
      "junio 5 B: 5.002/06/2013\n",
      "\n",
      "Junio 5 C: 5.008/06/2013\n",
      "\n",
      "junio 5 D: 5.023/06/2013\n",
      "\n",
      "junio 5 E: 5.028/06/2013\n",
      "\n",
      "junio 5 F: 5.044/06/2013\n",
      "\n",
      "junio 5 G: 5.066/06/2013\n",
      "\n",
      "junio 5 H: 5.086/06/2013\n",
      "\n",
      "junio 5 I: 5.106/06/2013\n",
      "\n",
      "junio 5 J: 5.127/06/2013\n",
      "\n",
      "junio 5 K: 5.133/06/2013\n",
      "\n",
      "junio 5 L: 5.147/06/2013\n",
      "\n",
      "junio 5 M: 5.168/06/2013\n",
      "\n",
      "junio 5 N: 5.178/06/2013\n",
      "\n",
      "junio 5 O: 5.189/06/2013\n",
      "\n",
      "junio 5 P: 5.212/06/2013\n",
      "\n",
      "junio 5 Q: 5.231/06/2013\n",
      "\n",
      "julio 2 A: 3.071/07/2013\n",
      "\n",
      "julio 2 B: 3.144/07/2013  - ESTOS\n",
      "\n",
      "julio 2 C: 3.134/07/2013  - ESPECTROS\n",
      "\n",
      "julio 2 D: 3.122/07/2013  - TIENEN LOS\n",
      "\n",
      "julio 2 E: 3.110/07/2013  - R\u00d3TULOS (B,C,D...)\n",
      "\n",
      "julio 2 F: 3.096/07/2013  - EN ORDEN TEMPORAL\n",
      "\n",
      "julio 2 G: 3.080/07/2013  - INVERTIDO\n",
      "\n",
      "julio 2 H: 3.149/07/2013\n"
     ]
    },
    {
     "cell_type": "code",
     "collapsed": false,
     "input": [
      "#time = np.loadtxt('/home/nicolas/Dropbox/github/EpsCra/data/Spica/orden51/peakposition.txt', usecols=(2, 3))\n",
      "data = np.loadtxt('/home/nicolas/Dropbox/github/EpsCra/data/Spica/orden51/peakposition.txt', comments='#' ,usecols=(0, 1, 2))\n",
      "\n",
      "print data\n",
      "\n",
      "x1 = data[:, 0]\n",
      "x2 = data[:, 1]\n",
      "t = data[:, 2]"
     ],
     "language": "python",
     "metadata": {},
     "outputs": [
      {
       "output_type": "stream",
       "stream": "stdout",
       "text": [
        "[[  4.39010000e+03   4.38570000e+03   4.99700000e+00]\n",
        " [  4.39010000e+03   4.38570000e+03   5.00200000e+00]\n",
        " [  4.39010000e+03   4.38570000e+03   5.00800000e+00]\n",
        " [  4.38990000e+03   4.38560000e+03   5.02300000e+00]\n",
        " [  4.38990000e+03   4.38585000e+03   5.02800000e+00]\n",
        " [  4.38990000e+03   4.38585000e+03   5.04400000e+00]\n",
        " [  4.38990000e+03   4.38585000e+03   5.06600000e+00]\n",
        " [  4.38990000e+03   4.38589500e+03   5.08600000e+00]\n",
        " [  4.38990000e+03   4.38605000e+03   5.10600000e+00]\n",
        " [  4.38990000e+03   4.38605000e+03   5.12700000e+00]\n",
        " [  4.38990000e+03   4.38605000e+03   5.13300000e+00]\n",
        " [  4.38980000e+03   4.38612000e+03   5.14700000e+00]\n",
        " [  4.38980000e+03   4.38618000e+03   5.16800000e+00]\n",
        " [  4.38980000e+03   4.38614000e+03   5.17800000e+00]\n",
        " [  4.38980000e+03   4.38614000e+03   5.18900000e+00]\n",
        " [  4.38980000e+03   4.38614000e+03   5.21200000e+00]\n",
        " [  4.38990000e+03   4.38624000e+03   5.23100000e+00]\n",
        " [  4.38870000e+03   4.38345000e+03   0.00000000e+00]\n",
        " [  4.38870000e+03   4.38345000e+03   0.00000000e+00]\n",
        " [  4.38850000e+03   4.38460000e+03   0.00000000e+00]\n",
        " [  4.38850000e+03   4.38230000e+03   0.00000000e+00]\n",
        " [  4.39000000e+03   4.38580000e+03   3.07100000e+00]\n",
        " [  4.39015000e+03   4.38620000e+03   3.14400000e+00]\n",
        " [  4.39000000e+03   4.38599000e+03   3.13400000e+00]\n",
        " [  4.39050000e+03   4.38599000e+03   3.12200000e+00]\n",
        " [  4.39030000e+03   4.38599000e+03   3.11000000e+00]\n",
        " [  4.39010000e+03   4.38580000e+03   3.09600000e+00]\n",
        " [  4.39010000e+03   4.38600000e+03   3.08000000e+00]\n",
        " [  4.39010000e+03   4.38590000e+03   3.14900000e+00]]\n"
       ]
      }
     ],
     "prompt_number": 54
    },
    {
     "cell_type": "code",
     "collapsed": false,
     "input": [
      "X = x1[0:16] - x2[0:16]\n",
      "T = t[0:16]\n",
      "plt.scatter(T, X)"
     ],
     "language": "python",
     "metadata": {},
     "outputs": [
      {
       "output_type": "pyout",
       "prompt_number": 63,
       "text": [
        "<matplotlib.collections.PathCollection at 0x3576ad0>"
       ]
      }
     ],
     "prompt_number": 63
    },
    {
     "cell_type": "code",
     "collapsed": false,
     "input": [
      "X2 = x1[21:28] - x2[21:28]\n",
      "T2 = t[21:28] + 2.0\n",
      "plt.scatter(T2, X2, c = 'r')\n",
      "plt.scatter(T, X)"
     ],
     "language": "python",
     "metadata": {},
     "outputs": [
      {
       "output_type": "pyout",
       "prompt_number": 66,
       "text": [
        "<matplotlib.collections.PathCollection at 0x3f89b90>"
       ]
      }
     ],
     "prompt_number": 66
    },
    {
     "cell_type": "code",
     "collapsed": false,
     "input": [
      "plt.scatter(t, x)"
     ],
     "language": "python",
     "metadata": {},
     "outputs": [
      {
       "ename": "NameError",
       "evalue": "name 'x' is not defined",
       "output_type": "pyerr",
       "traceback": [
        "\u001b[0;31m---------------------------------------------------------------------------\u001b[0m\n\u001b[0;31mNameError\u001b[0m                                 Traceback (most recent call last)",
        "\u001b[0;32m<ipython-input-62-9594934c4cef>\u001b[0m in \u001b[0;36m<module>\u001b[0;34m()\u001b[0m\n\u001b[0;32m----> 1\u001b[0;31m \u001b[0mplt\u001b[0m\u001b[0;34m.\u001b[0m\u001b[0mscatter\u001b[0m\u001b[0;34m(\u001b[0m\u001b[0mt\u001b[0m\u001b[0;34m,\u001b[0m \u001b[0mx\u001b[0m\u001b[0;34m)\u001b[0m\u001b[0;34m\u001b[0m\u001b[0m\n\u001b[0m",
        "\u001b[0;31mNameError\u001b[0m: name 'x' is not defined"
       ]
      }
     ],
     "prompt_number": 62
    },
    {
     "cell_type": "code",
     "collapsed": false,
     "input": [
      "np.loadtxt?"
     ],
     "language": "python",
     "metadata": {},
     "outputs": [],
     "prompt_number": 14
    },
    {
     "cell_type": "code",
     "collapsed": false,
     "input": [],
     "language": "python",
     "metadata": {},
     "outputs": []
    }
   ],
   "metadata": {}
  }
 ]
}